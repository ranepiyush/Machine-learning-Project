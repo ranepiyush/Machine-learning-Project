{
  "cells": [
    {
      "cell_type": "code",
      "execution_count": 1,
      "id": "ea9e817f",
      "metadata": {
        "id": "ea9e817f"
      },
      "outputs": [],
      "source": [
        "# Importing required libraries\n",
        "import numpy as np\n",
        "import pandas as pd\n",
        "\n",
        "import matplotlib.pyplot as plt\n",
        "\n",
        "# Tensorflow / Keras\n",
        "from tensorflow import keras # for building Neural Networks\n",
        "from keras.models import Sequential # for creating a linear stack of layers for our Neural Network\n",
        "from keras import Input # for instantiating a keras tensor\n",
        "from keras.layers import Dense # for creating regular densely-connected NN layers.\n",
        "\n",
        "# Sklearn\n",
        "import sklearn # for model evaluation\n",
        "from sklearn.model_selection import train_test_split # for splitting data into train and test samples\n",
        "from sklearn.metrics import classification_report # for model evaluation metrics\n",
        "from sklearn.metrics import roc_curve\n",
        "from sklearn.metrics import roc_auc_score\n",
        "from sklearn.metrics import auc\n",
        "from sklearn import model_selection\n",
        "from sklearn import svm\n",
        "from sklearn.metrics import confusion_matrix\n",
        "from sklearn import metrics\n",
        "\n",
        "\n",
        "\n",
        "# Warnings\n",
        "import warnings\n",
        "warnings.filterwarnings('always', category=FutureWarning)"
      ]
    },
    {
      "cell_type": "code",
      "source": [
        "# Reading the dataset\n",
        "finance=pd.read_csv(\"./targetfirm_prediction_dataset_small.csv\")\n",
        "finance.drop(['ca','Unnamed: 0'],axis=1,inplace=True)"
      ],
      "metadata": {
        "id": "gKh93D22ycJr"
      },
      "id": "gKh93D22ycJr",
      "execution_count": 2,
      "outputs": []
    },
    {
      "cell_type": "code",
      "execution_count": 3,
      "id": "b7cfb718",
      "metadata": {
        "colab": {
          "base_uri": "https://localhost:8080/"
        },
        "id": "b7cfb718",
        "outputId": "30051c06-bd6c-43d0-e6bf-ef5f91ca5934"
      },
      "outputs": [
        {
          "output_type": "stream",
          "name": "stderr",
          "text": [
            "/usr/local/lib/python3.7/dist-packages/pandas/core/generic.py:6392: SettingWithCopyWarning: \n",
            "A value is trying to be set on a copy of a slice from a DataFrame\n",
            "\n",
            "See the caveats in the documentation: https://pandas.pydata.org/pandas-docs/stable/user_guide/indexing.html#returning-a-view-versus-a-copy\n",
            "  return self._update_inplace(result)\n"
          ]
        }
      ],
      "source": [
        "# Dropping the rows with more than 50% NaN values and imputing mean for the rest of the rows with less than 50% NaN values\n",
        "perc=50.0\n",
        "min_count = int(((100-perc)/100)*finance.shape[1]+1)\n",
        "finance=finance.dropna(axis=0,thresh=min_count)\n",
        "for i in finance.columns[finance.isnull().any(axis=0)]:     #---Applying Only on variables with NaN values\n",
        "    finance[i].fillna(finance[i].mean(),inplace=True)"
      ]
    },
    {
      "cell_type": "code",
      "source": [
        "# Exploring the dataset to understand the percentage of 0 and 1 in the target variable\n",
        "count_0 = len(finance[finance['target']==0.0])\n",
        "count_1 = len(finance[finance['target']==1.0])\n",
        "pct_of_0 = count_0/(count_0+count_1)\n",
        "print(\"percentage of 0 is\", pct_of_0*100)\n",
        "pct_of_1 = count_1/(count_0+count_1)\n",
        "print(\"percentage of 1 is\", pct_of_1*100)"
      ],
      "metadata": {
        "colab": {
          "base_uri": "https://localhost:8080/"
        },
        "id": "hKcFVGtO369l",
        "outputId": "8e940568-681a-4742-a16d-2e1f6d05129f"
      },
      "id": "hKcFVGtO369l",
      "execution_count": 4,
      "outputs": [
        {
          "output_type": "stream",
          "name": "stdout",
          "text": [
            "percentage of 0 is 99.0522472352833\n",
            "percentage of 1 is 0.9477527647166986\n"
          ]
        }
      ]
    },
    {
      "cell_type": "code",
      "source": [
        "# Selecting only the required rows\n",
        "finance=finance.iloc[:,2:]\n",
        "finance"
      ],
      "metadata": {
        "colab": {
          "base_uri": "https://localhost:8080/",
          "height": 424
        },
        "id": "EsZnxFJO3-Tg",
        "outputId": "1408ec48-88b7-4cc8-9ae8-9af2966174e7"
      },
      "id": "EsZnxFJO3-Tg",
      "execution_count": 5,
      "outputs": [
        {
          "output_type": "execute_result",
          "data": {
            "text/plain": [
              "        target        at         revt          ib        capx       ceq  \\\n",
              "0          0.0   701.854   874.255000   18.531000   13.134000   340.212   \n",
              "1          0.0   710.199   638.721000  -58.939000   12.112000   310.235   \n",
              "2          0.0   686.621   606.337000  -12.410000    9.930000   294.988   \n",
              "3          0.0   709.292   651.958000    3.504000   10.286000   301.684   \n",
              "4          0.0   732.230   747.848000   18.572000   13.033000   314.744   \n",
              "...        ...       ...          ...         ...         ...       ...   \n",
              "224996     0.0   507.122   409.522000  -60.812000    1.212000   319.736   \n",
              "224997     0.0   266.811  2674.036063  168.386784  200.648586   140.718   \n",
              "225001     0.0  1526.300  1704.000000  123.000000   84.800000  1341.800   \n",
              "225002     0.0  1602.500  1462.400000   89.700000   82.400000  1407.900   \n",
              "225003     0.0     8.718     2.018000    0.879000    7.549000     8.494   \n",
              "\n",
              "           che       emp     invt          re         xrd     dltt         dv  \\\n",
              "0       13.809  2.500000  320.590  204.065000  106.459562  179.987   9.157000   \n",
              "1       34.522  2.200000  286.588  139.603000  106.459562  217.699   4.430000   \n",
              "2       29.154  2.100000  259.954  124.106000  106.459562  164.658   0.797000   \n",
              "3       41.010  2.300000  247.245  131.884000  106.459562  248.666   0.000000   \n",
              "4       50.338  2.600000  255.477  142.450000  106.459562  227.159   0.000000   \n",
              "...        ...       ...      ...         ...         ...      ...        ...   \n",
              "224996  46.522  0.808000    9.078 -153.433000  106.459562   20.790   1.674000   \n",
              "224997  14.501  8.285289    0.536   -1.785000  106.459562   76.534  81.662572   \n",
              "225001  14.000  8.285289  263.700  852.295869  106.459562    0.000   0.000000   \n",
              "225002   6.800  5.490000  246.800  852.295869  106.459562    0.400   0.000000   \n",
              "225003   0.837  8.285289    0.046    0.879000  106.459562    0.000  81.662572   \n",
              "\n",
              "           sic  \n",
              "0       5080.0  \n",
              "1       5080.0  \n",
              "2       5080.0  \n",
              "3       5080.0  \n",
              "4       5080.0  \n",
              "...        ...  \n",
              "224996  4412.0  \n",
              "224997  4412.0  \n",
              "225001  3440.0  \n",
              "225002  3440.0  \n",
              "225003  4412.0  \n",
              "\n",
              "[190345 rows x 14 columns]"
            ],
            "text/html": [
              "\n",
              "  <div id=\"df-954c054e-f16a-405c-97b0-01ef6e6c3970\">\n",
              "    <div class=\"colab-df-container\">\n",
              "      <div>\n",
              "<style scoped>\n",
              "    .dataframe tbody tr th:only-of-type {\n",
              "        vertical-align: middle;\n",
              "    }\n",
              "\n",
              "    .dataframe tbody tr th {\n",
              "        vertical-align: top;\n",
              "    }\n",
              "\n",
              "    .dataframe thead th {\n",
              "        text-align: right;\n",
              "    }\n",
              "</style>\n",
              "<table border=\"1\" class=\"dataframe\">\n",
              "  <thead>\n",
              "    <tr style=\"text-align: right;\">\n",
              "      <th></th>\n",
              "      <th>target</th>\n",
              "      <th>at</th>\n",
              "      <th>revt</th>\n",
              "      <th>ib</th>\n",
              "      <th>capx</th>\n",
              "      <th>ceq</th>\n",
              "      <th>che</th>\n",
              "      <th>emp</th>\n",
              "      <th>invt</th>\n",
              "      <th>re</th>\n",
              "      <th>xrd</th>\n",
              "      <th>dltt</th>\n",
              "      <th>dv</th>\n",
              "      <th>sic</th>\n",
              "    </tr>\n",
              "  </thead>\n",
              "  <tbody>\n",
              "    <tr>\n",
              "      <th>0</th>\n",
              "      <td>0.0</td>\n",
              "      <td>701.854</td>\n",
              "      <td>874.255000</td>\n",
              "      <td>18.531000</td>\n",
              "      <td>13.134000</td>\n",
              "      <td>340.212</td>\n",
              "      <td>13.809</td>\n",
              "      <td>2.500000</td>\n",
              "      <td>320.590</td>\n",
              "      <td>204.065000</td>\n",
              "      <td>106.459562</td>\n",
              "      <td>179.987</td>\n",
              "      <td>9.157000</td>\n",
              "      <td>5080.0</td>\n",
              "    </tr>\n",
              "    <tr>\n",
              "      <th>1</th>\n",
              "      <td>0.0</td>\n",
              "      <td>710.199</td>\n",
              "      <td>638.721000</td>\n",
              "      <td>-58.939000</td>\n",
              "      <td>12.112000</td>\n",
              "      <td>310.235</td>\n",
              "      <td>34.522</td>\n",
              "      <td>2.200000</td>\n",
              "      <td>286.588</td>\n",
              "      <td>139.603000</td>\n",
              "      <td>106.459562</td>\n",
              "      <td>217.699</td>\n",
              "      <td>4.430000</td>\n",
              "      <td>5080.0</td>\n",
              "    </tr>\n",
              "    <tr>\n",
              "      <th>2</th>\n",
              "      <td>0.0</td>\n",
              "      <td>686.621</td>\n",
              "      <td>606.337000</td>\n",
              "      <td>-12.410000</td>\n",
              "      <td>9.930000</td>\n",
              "      <td>294.988</td>\n",
              "      <td>29.154</td>\n",
              "      <td>2.100000</td>\n",
              "      <td>259.954</td>\n",
              "      <td>124.106000</td>\n",
              "      <td>106.459562</td>\n",
              "      <td>164.658</td>\n",
              "      <td>0.797000</td>\n",
              "      <td>5080.0</td>\n",
              "    </tr>\n",
              "    <tr>\n",
              "      <th>3</th>\n",
              "      <td>0.0</td>\n",
              "      <td>709.292</td>\n",
              "      <td>651.958000</td>\n",
              "      <td>3.504000</td>\n",
              "      <td>10.286000</td>\n",
              "      <td>301.684</td>\n",
              "      <td>41.010</td>\n",
              "      <td>2.300000</td>\n",
              "      <td>247.245</td>\n",
              "      <td>131.884000</td>\n",
              "      <td>106.459562</td>\n",
              "      <td>248.666</td>\n",
              "      <td>0.000000</td>\n",
              "      <td>5080.0</td>\n",
              "    </tr>\n",
              "    <tr>\n",
              "      <th>4</th>\n",
              "      <td>0.0</td>\n",
              "      <td>732.230</td>\n",
              "      <td>747.848000</td>\n",
              "      <td>18.572000</td>\n",
              "      <td>13.033000</td>\n",
              "      <td>314.744</td>\n",
              "      <td>50.338</td>\n",
              "      <td>2.600000</td>\n",
              "      <td>255.477</td>\n",
              "      <td>142.450000</td>\n",
              "      <td>106.459562</td>\n",
              "      <td>227.159</td>\n",
              "      <td>0.000000</td>\n",
              "      <td>5080.0</td>\n",
              "    </tr>\n",
              "    <tr>\n",
              "      <th>...</th>\n",
              "      <td>...</td>\n",
              "      <td>...</td>\n",
              "      <td>...</td>\n",
              "      <td>...</td>\n",
              "      <td>...</td>\n",
              "      <td>...</td>\n",
              "      <td>...</td>\n",
              "      <td>...</td>\n",
              "      <td>...</td>\n",
              "      <td>...</td>\n",
              "      <td>...</td>\n",
              "      <td>...</td>\n",
              "      <td>...</td>\n",
              "      <td>...</td>\n",
              "    </tr>\n",
              "    <tr>\n",
              "      <th>224996</th>\n",
              "      <td>0.0</td>\n",
              "      <td>507.122</td>\n",
              "      <td>409.522000</td>\n",
              "      <td>-60.812000</td>\n",
              "      <td>1.212000</td>\n",
              "      <td>319.736</td>\n",
              "      <td>46.522</td>\n",
              "      <td>0.808000</td>\n",
              "      <td>9.078</td>\n",
              "      <td>-153.433000</td>\n",
              "      <td>106.459562</td>\n",
              "      <td>20.790</td>\n",
              "      <td>1.674000</td>\n",
              "      <td>4412.0</td>\n",
              "    </tr>\n",
              "    <tr>\n",
              "      <th>224997</th>\n",
              "      <td>0.0</td>\n",
              "      <td>266.811</td>\n",
              "      <td>2674.036063</td>\n",
              "      <td>168.386784</td>\n",
              "      <td>200.648586</td>\n",
              "      <td>140.718</td>\n",
              "      <td>14.501</td>\n",
              "      <td>8.285289</td>\n",
              "      <td>0.536</td>\n",
              "      <td>-1.785000</td>\n",
              "      <td>106.459562</td>\n",
              "      <td>76.534</td>\n",
              "      <td>81.662572</td>\n",
              "      <td>4412.0</td>\n",
              "    </tr>\n",
              "    <tr>\n",
              "      <th>225001</th>\n",
              "      <td>0.0</td>\n",
              "      <td>1526.300</td>\n",
              "      <td>1704.000000</td>\n",
              "      <td>123.000000</td>\n",
              "      <td>84.800000</td>\n",
              "      <td>1341.800</td>\n",
              "      <td>14.000</td>\n",
              "      <td>8.285289</td>\n",
              "      <td>263.700</td>\n",
              "      <td>852.295869</td>\n",
              "      <td>106.459562</td>\n",
              "      <td>0.000</td>\n",
              "      <td>0.000000</td>\n",
              "      <td>3440.0</td>\n",
              "    </tr>\n",
              "    <tr>\n",
              "      <th>225002</th>\n",
              "      <td>0.0</td>\n",
              "      <td>1602.500</td>\n",
              "      <td>1462.400000</td>\n",
              "      <td>89.700000</td>\n",
              "      <td>82.400000</td>\n",
              "      <td>1407.900</td>\n",
              "      <td>6.800</td>\n",
              "      <td>5.490000</td>\n",
              "      <td>246.800</td>\n",
              "      <td>852.295869</td>\n",
              "      <td>106.459562</td>\n",
              "      <td>0.400</td>\n",
              "      <td>0.000000</td>\n",
              "      <td>3440.0</td>\n",
              "    </tr>\n",
              "    <tr>\n",
              "      <th>225003</th>\n",
              "      <td>0.0</td>\n",
              "      <td>8.718</td>\n",
              "      <td>2.018000</td>\n",
              "      <td>0.879000</td>\n",
              "      <td>7.549000</td>\n",
              "      <td>8.494</td>\n",
              "      <td>0.837</td>\n",
              "      <td>8.285289</td>\n",
              "      <td>0.046</td>\n",
              "      <td>0.879000</td>\n",
              "      <td>106.459562</td>\n",
              "      <td>0.000</td>\n",
              "      <td>81.662572</td>\n",
              "      <td>4412.0</td>\n",
              "    </tr>\n",
              "  </tbody>\n",
              "</table>\n",
              "<p>190345 rows × 14 columns</p>\n",
              "</div>\n",
              "      <button class=\"colab-df-convert\" onclick=\"convertToInteractive('df-954c054e-f16a-405c-97b0-01ef6e6c3970')\"\n",
              "              title=\"Convert this dataframe to an interactive table.\"\n",
              "              style=\"display:none;\">\n",
              "        \n",
              "  <svg xmlns=\"http://www.w3.org/2000/svg\" height=\"24px\"viewBox=\"0 0 24 24\"\n",
              "       width=\"24px\">\n",
              "    <path d=\"M0 0h24v24H0V0z\" fill=\"none\"/>\n",
              "    <path d=\"M18.56 5.44l.94 2.06.94-2.06 2.06-.94-2.06-.94-.94-2.06-.94 2.06-2.06.94zm-11 1L8.5 8.5l.94-2.06 2.06-.94-2.06-.94L8.5 2.5l-.94 2.06-2.06.94zm10 10l.94 2.06.94-2.06 2.06-.94-2.06-.94-.94-2.06-.94 2.06-2.06.94z\"/><path d=\"M17.41 7.96l-1.37-1.37c-.4-.4-.92-.59-1.43-.59-.52 0-1.04.2-1.43.59L10.3 9.45l-7.72 7.72c-.78.78-.78 2.05 0 2.83L4 21.41c.39.39.9.59 1.41.59.51 0 1.02-.2 1.41-.59l7.78-7.78 2.81-2.81c.8-.78.8-2.07 0-2.86zM5.41 20L4 18.59l7.72-7.72 1.47 1.35L5.41 20z\"/>\n",
              "  </svg>\n",
              "      </button>\n",
              "      \n",
              "  <style>\n",
              "    .colab-df-container {\n",
              "      display:flex;\n",
              "      flex-wrap:wrap;\n",
              "      gap: 12px;\n",
              "    }\n",
              "\n",
              "    .colab-df-convert {\n",
              "      background-color: #E8F0FE;\n",
              "      border: none;\n",
              "      border-radius: 50%;\n",
              "      cursor: pointer;\n",
              "      display: none;\n",
              "      fill: #1967D2;\n",
              "      height: 32px;\n",
              "      padding: 0 0 0 0;\n",
              "      width: 32px;\n",
              "    }\n",
              "\n",
              "    .colab-df-convert:hover {\n",
              "      background-color: #E2EBFA;\n",
              "      box-shadow: 0px 1px 2px rgba(60, 64, 67, 0.3), 0px 1px 3px 1px rgba(60, 64, 67, 0.15);\n",
              "      fill: #174EA6;\n",
              "    }\n",
              "\n",
              "    [theme=dark] .colab-df-convert {\n",
              "      background-color: #3B4455;\n",
              "      fill: #D2E3FC;\n",
              "    }\n",
              "\n",
              "    [theme=dark] .colab-df-convert:hover {\n",
              "      background-color: #434B5C;\n",
              "      box-shadow: 0px 1px 3px 1px rgba(0, 0, 0, 0.15);\n",
              "      filter: drop-shadow(0px 1px 2px rgba(0, 0, 0, 0.3));\n",
              "      fill: #FFFFFF;\n",
              "    }\n",
              "  </style>\n",
              "\n",
              "      <script>\n",
              "        const buttonEl =\n",
              "          document.querySelector('#df-954c054e-f16a-405c-97b0-01ef6e6c3970 button.colab-df-convert');\n",
              "        buttonEl.style.display =\n",
              "          google.colab.kernel.accessAllowed ? 'block' : 'none';\n",
              "\n",
              "        async function convertToInteractive(key) {\n",
              "          const element = document.querySelector('#df-954c054e-f16a-405c-97b0-01ef6e6c3970');\n",
              "          const dataTable =\n",
              "            await google.colab.kernel.invokeFunction('convertToInteractive',\n",
              "                                                     [key], {});\n",
              "          if (!dataTable) return;\n",
              "\n",
              "          const docLinkHtml = 'Like what you see? Visit the ' +\n",
              "            '<a target=\"_blank\" href=https://colab.research.google.com/notebooks/data_table.ipynb>data table notebook</a>'\n",
              "            + ' to learn more about interactive tables.';\n",
              "          element.innerHTML = '';\n",
              "          dataTable['output_type'] = 'display_data';\n",
              "          await google.colab.output.renderOutput(dataTable, element);\n",
              "          const docLink = document.createElement('div');\n",
              "          docLink.innerHTML = docLinkHtml;\n",
              "          element.appendChild(docLink);\n",
              "        }\n",
              "      </script>\n",
              "    </div>\n",
              "  </div>\n",
              "  "
            ]
          },
          "metadata": {},
          "execution_count": 5
        }
      ]
    },
    {
      "cell_type": "code",
      "execution_count": 6,
      "id": "714f8f39",
      "metadata": {
        "id": "714f8f39"
      },
      "outputs": [],
      "source": [
        "# Selecting the dependent and independent variables from the dataset\n",
        "X=finance.iloc[:, 1:].values\n",
        "y=finance['target'].values\n"
      ]
    },
    {
      "cell_type": "code",
      "execution_count": 7,
      "id": "4657b69a",
      "metadata": {
        "id": "4657b69a"
      },
      "outputs": [],
      "source": [
        "# Splitting the dataset into training and testing dataframes. We assigned 30% of dataset for testing and 70% for training\n",
        "X_train, X_test, y_train, y_test = train_test_split(X, y, test_size=0.3, random_state=0)"
      ]
    },
    {
      "cell_type": "code",
      "execution_count": 8,
      "id": "6b3514dd",
      "metadata": {
        "id": "6b3514dd"
      },
      "outputs": [],
      "source": [
        "# Specifying the structure of a neural network\n",
        "model2 = Sequential(name=\"Model\") # Model\n",
        "model2.add(Input(shape=(13,), name='Input-Layer')) # Input Layer - need to speicfy the shape of inputs\n",
        "model2.add(Dense(2, activation='softplus', name='Hidden-Layer')) # Hidden Layer, softplus(x) = log(exp(x) + 1)\n",
        "model2.add(Dense(1, activation='sigmoid', name='Output-Layer')) # Output Layer, sigmoid(x) = 1 / (1 + exp(-x))"
      ]
    },
    {
      "cell_type": "code",
      "execution_count": 9,
      "id": "30c78c5e",
      "metadata": {
        "id": "30c78c5e"
      },
      "outputs": [],
      "source": [
        "# Compiling the keras model\n",
        "model2.compile(optimizer='adam', # default='rmsprop', an algorithm to be used in backpropagation\n",
        "              loss='binary_crossentropy', # Loss function to be optimized. A string (name of loss function), or a tf.keras.losses.Loss instance.\n",
        "              metrics=['Accuracy', 'Precision', 'Recall'], # List of metrics to be evaluated by the model during training and testing. Each of this can be a string (name of a built-in function), function or a tf.keras.metrics.Metric instance. \n",
        "              loss_weights=None, # default=None, Optional list or dictionary specifying scalar coefficients (Python floats) to weight the loss contributions of different model outputs.\n",
        "              weighted_metrics=None, # default=None, List of metrics to be evaluated and weighted by sample_weight or class_weight during training and testing.\n",
        "              run_eagerly=None, # Defaults to False. If True, this Model's logic will not be wrapped in a tf.function. Recommended to leave this as None unless your Model cannot be run inside a tf.function.\n",
        "              steps_per_execution=None # Defaults to 1. The number of batches to run during each tf.function call. Running multiple batches inside a single tf.function call can greatly improve performance on TPUs or small models with a large Python overhead.\n",
        "             )"
      ]
    },
    {
      "cell_type": "code",
      "execution_count": 10,
      "id": "2b1300c1",
      "metadata": {
        "colab": {
          "base_uri": "https://localhost:8080/"
        },
        "id": "2b1300c1",
        "outputId": "90f7ffcd-4162-4ebe-a751-6def35df5197"
      },
      "outputs": [
        {
          "output_type": "stream",
          "name": "stdout",
          "text": [
            "Epoch 1/5\n",
            "10660/10660 [==============================] - 37s 3ms/step - loss: 4.7982 - Accuracy: 0.9716 - precision: 0.0126 - recall: 0.0255\n",
            "Epoch 2/5\n",
            "10660/10660 [==============================] - 20s 2ms/step - loss: 0.0327 - Accuracy: 0.9904 - precision: 0.0000e+00 - recall: 0.0000e+00\n",
            "Epoch 3/5\n",
            "10660/10660 [==============================] - 25s 2ms/step - loss: 0.0322 - Accuracy: 0.9904 - precision: 0.0000e+00 - recall: 0.0000e+00 - val_loss: 0.0594 - val_Accuracy: 0.9901 - val_precision: 0.0000e+00 - val_recall: 0.0000e+00\n",
            "Epoch 4/5\n",
            "10660/10660 [==============================] - 20s 2ms/step - loss: 0.2996 - Accuracy: 0.9904 - precision: 0.0000e+00 - recall: 0.0000e+00\n",
            "Epoch 5/5\n",
            "10660/10660 [==============================] - 22s 2ms/step - loss: 0.0322 - Accuracy: 0.9904 - precision: 0.0000e+00 - recall: 0.0000e+00\n"
          ]
        },
        {
          "output_type": "execute_result",
          "data": {
            "text/plain": [
              "<keras.callbacks.History at 0x7faf338d9210>"
            ]
          },
          "metadata": {},
          "execution_count": 10
        }
      ],
      "source": [
        "# Fitting keras model on the dataset\n",
        "model2.fit(X_train, # input data\n",
        "          y_train, # target data\n",
        "          batch_size=10, # Number of samples per gradient update. If unspecified, batch_size will default to 32.\n",
        "          epochs=5, # default=1, Number of epochs to train the model. An epoch is an iteration over the entire x and y data provided\n",
        "          verbose='auto', # default='auto', ('auto', 0, 1, or 2). Verbosity mode. 0 = silent, 1 = progress bar, 2 = one line per epoch. 'auto' defaults to 1 for most cases, but 2 when used with ParameterServerStrategy.\n",
        "          callbacks=None, # default=None, list of callbacks to apply during training. See tf.keras.callbacks\n",
        "          validation_split=0.2, # default=0.0, Fraction of the training data to be used as validation data. The model will set apart this fraction of the training data, will not train on it, and will evaluate the loss and any model metrics on this data at the end of each epoch. \n",
        "          #validation_data=(X_test, y_test), # default=None, Data on which to evaluate the loss and any model metrics at the end of each epoch. \n",
        "          shuffle=True, # default=True, Boolean (whether to shuffle the training data before each epoch) or str (for 'batch').\n",
        "          class_weight={0 : 0.3, 1 : 0.7}, # default=None, Optional dictionary mapping class indices (integers) to a weight (float) value, used for weighting the loss function (during training only). This can be useful to tell the model to \"pay more attention\" to samples from an under-represented class.\n",
        "          sample_weight=None, # default=None, Optional Numpy array of weights for the training samples, used for weighting the loss function (during training only).\n",
        "          initial_epoch=0, # Integer, default=0, Epoch at which to start training (useful for resuming a previous training run).\n",
        "          steps_per_epoch=None, # Integer or None, default=None, Total number of steps (batches of samples) before declaring one epoch finished and starting the next epoch. When training with input tensors such as TensorFlow data tensors, the default None is equal to the number of samples in your dataset divided by the batch size, or 1 if that cannot be determined. \n",
        "          validation_steps=None, # Only relevant if validation_data is provided and is a tf.data dataset. Total number of steps (batches of samples) to draw before stopping when performing validation at the end of every epoch.\n",
        "          validation_batch_size=None, # Integer or None, default=None, Number of samples per validation batch. If unspecified, will default to batch_size.\n",
        "          validation_freq=3, # default=1, Only relevant if validation data is provided. If an integer, specifies how many training epochs to run before a new validation run is performed, e.g. validation_freq=2 runs validation every 2 epochs.\n",
        "          max_queue_size=10, # default=10, Used for generator or keras.utils.Sequence input only. Maximum size for the generator queue. If unspecified, max_queue_size will default to 10.\n",
        "          workers=1, # default=1, Used for generator or keras.utils.Sequence input only. Maximum number of processes to spin up when using process-based threading. If unspecified, workers will default to 1.\n",
        "          use_multiprocessing=False, # default=False, Used for generator or keras.utils.Sequence input only. If True, use process-based threading. If unspecified, use_multiprocessing will default to False. \n",
        "         )"
      ]
    },
    {
      "cell_type": "code",
      "execution_count": 11,
      "id": "b12b9d3a",
      "metadata": {
        "id": "b12b9d3a"
      },
      "outputs": [],
      "source": [
        "# Using model to make predictions\n",
        "# Predicting class labels on training data\n",
        "pred_labels_tr = (model2.predict(X_train) > 0.5).astype(int)\n",
        "# Predicting class labels on a test data\n",
        "pred_labels_te = (model2.predict(X_test) > 0.5).astype(int)"
      ]
    },
    {
      "cell_type": "code",
      "execution_count": 12,
      "id": "2fe93759",
      "metadata": {
        "colab": {
          "base_uri": "https://localhost:8080/"
        },
        "id": "2fe93759",
        "outputId": "20623a9b-96b4-4c4d-d600-da2ca9e9b4ce"
      },
      "outputs": [
        {
          "output_type": "stream",
          "name": "stdout",
          "text": [
            "\n",
            "-------------------- Model Summary --------------------\n",
            "Model: \"Model\"\n",
            "_________________________________________________________________\n",
            " Layer (type)                Output Shape              Param #   \n",
            "=================================================================\n",
            " Hidden-Layer (Dense)        (None, 2)                 28        \n",
            "                                                                 \n",
            " Output-Layer (Dense)        (None, 1)                 3         \n",
            "                                                                 \n",
            "=================================================================\n",
            "Total params: 31\n",
            "Trainable params: 31\n",
            "Non-trainable params: 0\n",
            "_________________________________________________________________\n",
            "\n",
            "-------------------- Weights and Biases --------------------\n",
            "Layer:  Hidden-Layer\n",
            "  --Kernels (Weights):  [[-0.620004   -0.03246747]\n",
            " [ 0.03391147 -0.05449716]\n",
            " [ 0.30635038  0.27944577]\n",
            " [-0.44798923  0.29380578]\n",
            " [-0.01191838 -0.21102373]\n",
            " [ 0.0226743   0.20789008]\n",
            " [-0.8730019   0.01914652]\n",
            " [ 0.0477188  -0.11080622]\n",
            " [-0.0177594   0.04813956]\n",
            " [-0.17034444 -0.5863798 ]\n",
            " [-0.8759985  -0.3358486 ]\n",
            " [-0.31483498 -0.46501935]\n",
            " [-0.28528234 -0.45661688]]\n",
            "  --Biases:  [-0.4976158  -0.03094559]\n",
            "Layer:  Output-Layer\n",
            "  --Kernels (Weights):  [[ 0.52851707]\n",
            " [-1.1301994 ]]\n",
            "  --Biases:  [-3.780748]\n",
            "\n",
            "---------- Evaluation on Training Data ----------\n"
          ]
        },
        {
          "output_type": "stream",
          "name": "stderr",
          "text": [
            "/usr/local/lib/python3.7/dist-packages/sklearn/metrics/_classification.py:1318: UndefinedMetricWarning: Precision and F-score are ill-defined and being set to 0.0 in labels with no predicted samples. Use `zero_division` parameter to control this behavior.\n",
            "  _warn_prf(average, modifier, msg_start, len(result))\n",
            "/usr/local/lib/python3.7/dist-packages/sklearn/metrics/_classification.py:1318: UndefinedMetricWarning: Precision and F-score are ill-defined and being set to 0.0 in labels with no predicted samples. Use `zero_division` parameter to control this behavior.\n",
            "  _warn_prf(average, modifier, msg_start, len(result))\n",
            "/usr/local/lib/python3.7/dist-packages/sklearn/metrics/_classification.py:1318: UndefinedMetricWarning: Precision and F-score are ill-defined and being set to 0.0 in labels with no predicted samples. Use `zero_division` parameter to control this behavior.\n",
            "  _warn_prf(average, modifier, msg_start, len(result))\n"
          ]
        },
        {
          "output_type": "stream",
          "name": "stdout",
          "text": [
            "              precision    recall  f1-score   support\n",
            "\n",
            "         0.0       0.99      1.00      1.00    131957\n",
            "         1.0       0.00      0.00      0.00      1284\n",
            "\n",
            "    accuracy                           0.99    133241\n",
            "   macro avg       0.50      0.50      0.50    133241\n",
            "weighted avg       0.98      0.99      0.99    133241\n",
            "\n",
            "\n",
            "---------- Evaluation on Test Data ----------\n",
            "              precision    recall  f1-score   support\n",
            "\n",
            "         0.0       0.99      1.00      1.00     56584\n",
            "         1.0       0.00      0.00      0.00       520\n",
            "\n",
            "    accuracy                           0.99     57104\n",
            "   macro avg       0.50      0.50      0.50     57104\n",
            "weighted avg       0.98      0.99      0.99     57104\n",
            "\n",
            "\n"
          ]
        },
        {
          "output_type": "stream",
          "name": "stderr",
          "text": [
            "/usr/local/lib/python3.7/dist-packages/sklearn/metrics/_classification.py:1318: UndefinedMetricWarning: Precision and F-score are ill-defined and being set to 0.0 in labels with no predicted samples. Use `zero_division` parameter to control this behavior.\n",
            "  _warn_prf(average, modifier, msg_start, len(result))\n",
            "/usr/local/lib/python3.7/dist-packages/sklearn/metrics/_classification.py:1318: UndefinedMetricWarning: Precision and F-score are ill-defined and being set to 0.0 in labels with no predicted samples. Use `zero_division` parameter to control this behavior.\n",
            "  _warn_prf(average, modifier, msg_start, len(result))\n",
            "/usr/local/lib/python3.7/dist-packages/sklearn/metrics/_classification.py:1318: UndefinedMetricWarning: Precision and F-score are ill-defined and being set to 0.0 in labels with no predicted samples. Use `zero_division` parameter to control this behavior.\n",
            "  _warn_prf(average, modifier, msg_start, len(result))\n"
          ]
        }
      ],
      "source": [
        "# Model Performance Summary\n",
        "print(\"\")\n",
        "print('-------------------- Model Summary --------------------')\n",
        "model2.summary() # print model summary\n",
        "print(\"\")\n",
        "print('-------------------- Weights and Biases --------------------')\n",
        "for layer in model2.layers:\n",
        "    print(\"Layer: \", layer.name) # print layer name\n",
        "    print(\"  --Kernels (Weights): \", layer.get_weights()[0]) # kernels (weights)\n",
        "    print(\"  --Biases: \", layer.get_weights()[1]) # biases\n",
        "    \n",
        "print(\"\")\n",
        "print('---------- Evaluation on Training Data ----------')\n",
        "print(classification_report(y_train, pred_labels_tr))\n",
        "print(\"\")\n",
        "\n",
        "print('---------- Evaluation on Test Data ----------')\n",
        "print(classification_report(y_test, pred_labels_te))\n",
        "print(\"\")\n"
      ]
    },
    {
      "cell_type": "code",
      "execution_count": 13,
      "id": "2c77ac6c",
      "metadata": {
        "id": "2c77ac6c"
      },
      "outputs": [],
      "source": [
        "y_pred_keras = model2.predict(X_test).ravel()\n",
        "fpr_keras, tpr_keras, thresholds_keras = roc_curve(y_test, y_pred_keras)\n",
        "auc_keras = auc(fpr_keras, tpr_keras)"
      ]
    },
    {
      "cell_type": "code",
      "source": [
        "plt.plot([0, 1], [0, 1], 'k--')\n",
        "plt.plot(fpr_keras, tpr_keras, label='Keras (area = {:.3f})'.format(auc_keras))\n",
        "\n",
        "plt.xlabel('False positive rate')\n",
        "plt.ylabel('True positive rate')\n",
        "plt.title('ROC curve')\n",
        "plt.legend(loc='best')\n",
        "plt.show()"
      ],
      "metadata": {
        "colab": {
          "base_uri": "https://localhost:8080/",
          "height": 295
        },
        "id": "kaaZ4PhtQR47",
        "outputId": "82a07e25-b822-46b9-ae61-2d79838ff753"
      },
      "id": "kaaZ4PhtQR47",
      "execution_count": 14,
      "outputs": [
        {
          "output_type": "display_data",
          "data": {
            "text/plain": [
              "<Figure size 432x288 with 1 Axes>"
            ],
            "image/png": "[encoded data removed]"
          },
          "metadata": {
            "needs_background": "light"
          }
        }
      ]
    }
  ],
  "metadata": {
    "kernelspec": {
      "display_name": "Python 3 (ipykernel)",
      "language": "python",
      "name": "python3"
    },
    "language_info": {
      "codemirror_mode": {
        "name": "ipython",
        "version": 3
      },
      "file_extension": ".py",
      "mimetype": "text/x-python",
      "name": "python",
      "nbconvert_exporter": "python",
      "pygments_lexer": "ipython3",
      "version": "3.9.7"
    },
    "colab": {
      "name": "FeedForwardNeuralNetwork.ipynb",
      "provenance": []
    }
  },
  "nbformat": 4,
  "nbformat_minor": 5
}