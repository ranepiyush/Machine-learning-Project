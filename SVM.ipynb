{
  "cells": [
    {
      "cell_type": "code",
      "execution_count": 12,
      "id": "a059180d",
      "metadata": {
        "id": "a059180d"
      },
      "outputs": [],
      "source": [
        "# Importing libraries\n",
        "import numpy as np\n",
        "import pandas as pd\n",
        "from sklearn import model_selection\n",
        "from sklearn import svm\n",
        "import sklearn.metrics as metrics\n",
        "import matplotlib.pyplot as plt\n",
        "from sklearn.metrics import confusion_matrix\n",
        "# Warnings\n",
        "import warnings\n",
        "warnings.filterwarnings('always', category=FutureWarning)"
      ]
    },
    {
      "cell_type": "code",
      "source": [
        "# Reading dataset\n",
        "finance=pd.read_csv(\"./targetfirm_prediction_dataset_small.csv\")\n",
        "finance.drop(['ca','Unnamed: 0'],axis=1,inplace=True)"
      ],
      "metadata": {
        "id": "Lgr7kMechTLd"
      },
      "id": "Lgr7kMechTLd",
      "execution_count": null,
      "outputs": []
    },
    {
      "cell_type": "code",
      "execution_count": 13,
      "id": "1d8357d8",
      "metadata": {
        "id": "1d8357d8"
      },
      "outputs": [],
      "source": [
        "# Dropping the rows with more than 50% NaN values and imputing mean for the rest of the rows with less than 50% NaN values\n",
        "perc=50.0\n",
        "min_count = int(((100-perc)/100)*finance.shape[1]+1)\n",
        "finance=finance.dropna(axis=0,thresh=min_count)\n",
        "for i in finance.columns[finance.isnull().any(axis=0)]:     #---Applying Only on variables with NaN values\n",
        "    finance[i].fillna(finance[i].mean(),inplace=True)"
      ]
    },
    {
      "cell_type": "markdown",
      "id": "73a0e052",
      "metadata": {
        "id": "73a0e052"
      },
      "source": [
        "SVM"
      ]
    },
    {
      "cell_type": "code",
      "execution_count": 17,
      "id": "4b73629a",
      "metadata": {
        "colab": {
          "base_uri": "https://localhost:8080/"
        },
        "id": "4b73629a",
        "outputId": "6b41066d-c977-40df-a9e4-528b1ca5623d"
      },
      "outputs": [
        {
          "output_type": "stream",
          "name": "stderr",
          "text": [
            "/usr/local/lib/python3.7/dist-packages/sklearn/utils/validation.py:993: DataConversionWarning: A column-vector y was passed when a 1d array was expected. Please change the shape of y to (n_samples, ), for example using ravel().\n",
            "  y = column_or_1d(y, warn=True)\n"
          ]
        }
      ],
      "source": [
        "# Extract features\n",
        "X = finance.iloc[:, 3:].values\n",
        "\n",
        "# Extract target i.e. iris species\n",
        "Y = finance.loc[:, ['target']].values\n",
        "\n",
        "# Now using scikit-learn model_selection module, split the iris data into train/test data sets\n",
        "\n",
        "# keeping 40% reserved for testing purpose and 60% data will be used to train and form model.\n",
        "X_train, X_test, Y_train, Y_test = model_selection.train_test_split (X, Y, test_size=0.3, random_state=0)\n",
        "\n",
        "# Build an SVC (Support Vector Classification) model using linear regression\n",
        "clf_ob = svm.SVC(kernel='linear', C=1,probability=True).fit(X_train, Y_train)"
      ]
    },
    {
      "cell_type": "code",
      "source": [
        "probs = clf_ob.predict_proba(X_test)\n",
        "preds = probs[:,1]\n",
        "fpr, tpr, threshold = metrics.roc_curve(Y_test, preds)\n",
        "roc_auc = metrics.auc(fpr, tpr)\n",
        "\n",
        "\n",
        "plt.title('ROC')\n",
        "plt.plot(fpr, tpr, 'b', label = 'AUC = %0.2f' % roc_auc)\n",
        "plt.legend(loc = 'lower right')\n",
        "plt.plot([0, 1], [0, 1],'r--')\n",
        "plt.xlim([0, 1])\n",
        "plt.ylim([0, 1])\n",
        "plt.ylabel('True Positive Rate')\n",
        "plt.xlabel('False Positive Rate')\n",
        "plt.show()"
      ],
      "metadata": {
        "colab": {
          "base_uri": "https://localhost:8080/",
          "height": 295
        },
        "id": "9x4YEmI_eIvM",
        "outputId": "383fd126-4ee7-4b0c-d4a0-1eaea8563318"
      },
      "id": "9x4YEmI_eIvM",
      "execution_count": 20,
      "outputs": [
        {
          "output_type": "display_data",
          "data": {
            "text/plain": [
              "<Figure size 432x288 with 1 Axes>"
            ],
            "image/png": "[encoded data removed]"
          },
          "metadata": {
            "needs_background": "light"
          }
        }
      ]
    },
    {
      "cell_type": "code",
      "execution_count": 21,
      "id": "e7d87d2d",
      "metadata": {
        "colab": {
          "base_uri": "https://localhost:8080/"
        },
        "id": "e7d87d2d",
        "outputId": "3a88d18f-08cf-4113-e439-602374372801"
      },
      "outputs": [
        {
          "output_type": "stream",
          "name": "stdout",
          "text": [
            "SVM accuray is: 0.9619047619047619\n"
          ]
        }
      ],
      "source": [
        "print(\"SVM accuray is:\",clf_ob.score(X_test, Y_test))"
      ]
    },
    {
      "cell_type": "code",
      "source": [
        "confusion_matrix = confusion_matrix(Y_test,clf_ob.predict(X_test))\n",
        "print(\"Confusion Matrix:\\n\",confusion_matrix)"
      ],
      "metadata": {
        "colab": {
          "base_uri": "https://localhost:8080/"
        },
        "id": "E3irF5J4hvNQ",
        "outputId": "56759d04-5f5f-44c5-f1f2-2e6da39555c1"
      },
      "id": "E3irF5J4hvNQ",
      "execution_count": 23,
      "outputs": [
        {
          "output_type": "stream",
          "name": "stdout",
          "text": [
            "Confusion Matrix:\n",
            " [[100   1]\n",
            " [  3   1]]\n"
          ]
        }
      ]
    },
    {
      "cell_type": "code",
      "source": [
        "# Predict class labels on training data\n",
        "from sklearn.metrics import classification_report\n",
        "pred_labels_tr = (clf_ob.predict(X_train) > 0.5).astype(int)\n",
        "# Predict class labels on a test data\n",
        "pred_labels_te = (clf_ob.predict(X_test) > 0.5).astype(int)\n",
        "print(\"\")\n",
        "print('---------- Evaluation on Training Data ----------')\n",
        "print(classification_report(Y_train, pred_labels_tr))\n",
        "print(\"\")\n",
        "\n",
        "print('---------- Evaluation on Test Data ----------')\n",
        "print(classification_report(Y_test, pred_labels_te))\n",
        "print(\"\")"
      ],
      "metadata": {
        "colab": {
          "base_uri": "https://localhost:8080/"
        },
        "id": "FNhyWmfOivVm",
        "outputId": "31c7df08-7fa4-4650-9233-de7aa14e0871"
      },
      "id": "FNhyWmfOivVm",
      "execution_count": 26,
      "outputs": [
        {
          "output_type": "stream",
          "name": "stdout",
          "text": [
            "\n",
            "---------- Evaluation on Training Data ----------\n",
            "              precision    recall  f1-score   support\n",
            "\n",
            "         0.0       0.99      1.00      0.99       237\n",
            "         1.0       1.00      0.62      0.77         8\n",
            "\n",
            "    accuracy                           0.99       245\n",
            "   macro avg       0.99      0.81      0.88       245\n",
            "weighted avg       0.99      0.99      0.99       245\n",
            "\n",
            "\n",
            "---------- Evaluation on Test Data ----------\n",
            "              precision    recall  f1-score   support\n",
            "\n",
            "         0.0       0.97      0.99      0.98       101\n",
            "         1.0       0.50      0.25      0.33         4\n",
            "\n",
            "    accuracy                           0.96       105\n",
            "   macro avg       0.74      0.62      0.66       105\n",
            "weighted avg       0.95      0.96      0.96       105\n",
            "\n",
            "\n"
          ]
        }
      ]
    }
  ],
  "metadata": {
    "kernelspec": {
      "display_name": "Python 3 (ipykernel)",
      "language": "python",
      "name": "python3"
    },
    "language_info": {
      "codemirror_mode": {
        "name": "ipython",
        "version": 3
      },
      "file_extension": ".py",
      "mimetype": "text/x-python",
      "name": "python",
      "nbconvert_exporter": "python",
      "pygments_lexer": "ipython3",
      "version": "3.9.7"
    },
    "colab": {
      "name": "SVM.ipynb",
      "provenance": []
    }
  },
  "nbformat": 4,
  "nbformat_minor": 5
}