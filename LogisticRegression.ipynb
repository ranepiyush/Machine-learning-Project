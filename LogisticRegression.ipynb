{
  "cells": [
    {
      "cell_type": "code",
      "execution_count": 1,
      "id": "7bce8517",
      "metadata": {
        "colab": {
          "base_uri": "https://localhost:8080/"
        },
        "id": "7bce8517",
        "outputId": "d53068a3-82aa-4888-c172-e8f90ca6386d"
      },
      "outputs": [
        {
          "output_type": "stream",
          "name": "stderr",
          "text": [
            "/usr/local/lib/python3.7/dist-packages/statsmodels/tools/_testing.py:19: FutureWarning: pandas.util.testing is deprecated. Use the functions in the public API at pandas.testing instead.\n",
            "  import pandas.util.testing as tm\n"
          ]
        }
      ],
      "source": [
        "# Importing required libraries \n",
        "\n",
        "import numpy as np\n",
        "import pandas as pd\n",
        "from sklearn import model_selection\n",
        "from sklearn import svm\n",
        "from sklearn import preprocessing\n",
        "import matplotlib.pyplot as plt \n",
        "plt.rc(\"font\", size=14)\n",
        "from sklearn.linear_model import LogisticRegression\n",
        "from sklearn.model_selection import train_test_split\n",
        "from sklearn.metrics import classification_report\n",
        "from sklearn.metrics import confusion_matrix\n",
        "from sklearn import metrics\n",
        "from sklearn.metrics import roc_curve\n",
        "from sklearn.metrics import roc_auc_score\n",
        "import statsmodels.api as sm\n",
        "import seaborn as sns\n",
        "sns.set(style=\"white\")\n",
        "sns.set(style=\"whitegrid\", color_codes=True)\n"
      ]
    },
    {
      "cell_type": "code",
      "source": [
        "# Reading the dataset\n",
        "finance=pd.read_csv(\"./targetfirm_prediction_dataset_small.csv\")         \n",
        "finance.drop(['ca','Unnamed: 0'],axis=1,inplace=True)"
      ],
      "metadata": {
        "id": "4ui7sLwfhfW1"
      },
      "id": "4ui7sLwfhfW1",
      "execution_count": 2,
      "outputs": []
    },
    {
      "cell_type": "code",
      "execution_count": 3,
      "id": "e1ddfb51",
      "metadata": {
        "id": "e1ddfb51"
      },
      "outputs": [],
      "source": [
        "# Dropping the rows with more than 50% NaN values and imputing mean for the rest of the rows with less than 50% NaN values\n",
        "perc=50.0\n",
        "min_count = int(((100-perc)/100)*finance.shape[1]+1)                  \n",
        "finance=finance.dropna(axis=0,thresh=min_count)\n",
        "for i in finance.columns[finance.isnull().any(axis=0)]:     # Applying Only on variables with NaN values\n",
        "    finance[i].fillna(finance[i].mean(),inplace=True)"
      ]
    },
    {
      "cell_type": "code",
      "execution_count": 4,
      "id": "20a30945",
      "metadata": {
        "colab": {
          "base_uri": "https://localhost:8080/"
        },
        "id": "20a30945",
        "outputId": "9578750d-ff76-4ebc-f9da-3d16efb86712"
      },
      "outputs": [
        {
          "output_type": "execute_result",
          "data": {
            "text/plain": [
              "0.0    188541\n",
              "1.0      1804\n",
              "Name: target, dtype: int64"
            ]
          },
          "metadata": {},
          "execution_count": 4
        }
      ],
      "source": [
        "finance['target'].value_counts()"
      ]
    },
    {
      "cell_type": "code",
      "execution_count": 5,
      "id": "c1445650",
      "metadata": {
        "colab": {
          "base_uri": "https://localhost:8080/"
        },
        "id": "c1445650",
        "outputId": "f5f161c6-fcf3-453d-83d0-02f32b72e862"
      },
      "outputs": [
        {
          "output_type": "stream",
          "name": "stdout",
          "text": [
            "percentage of 0 is 99.0522472352833\n",
            "percentage of 1 is 0.9477527647166986\n"
          ]
        }
      ],
      "source": [
        "# Exploring the dataset to understand the percentage of 0 and 1 in the target variable\n",
        "count_0 = len(finance[finance['target']==0.0])\n",
        "count_1 = len(finance[finance['target']==1.0])\n",
        "pct_of_0 = count_0/(count_0+count_1)\n",
        "print(\"percentage of 0 is\", pct_of_0*100)\n",
        "pct_of_1 = count_1/(count_0+count_1)\n",
        "print(\"percentage of 1 is\", pct_of_1*100)"
      ]
    },
    {
      "cell_type": "code",
      "execution_count": 6,
      "id": "f1d7a7bd",
      "metadata": {
        "colab": {
          "base_uri": "https://localhost:8080/",
          "height": 424
        },
        "id": "f1d7a7bd",
        "outputId": "1fd0431c-ccf0-48e4-be49-190c434989e9"
      },
      "outputs": [
        {
          "output_type": "execute_result",
          "data": {
            "text/plain": [
              "        target        at         revt          ib        capx       ceq  \\\n",
              "0          0.0   701.854   874.255000   18.531000   13.134000   340.212   \n",
              "1          0.0   710.199   638.721000  -58.939000   12.112000   310.235   \n",
              "2          0.0   686.621   606.337000  -12.410000    9.930000   294.988   \n",
              "3          0.0   709.292   651.958000    3.504000   10.286000   301.684   \n",
              "4          0.0   732.230   747.848000   18.572000   13.033000   314.744   \n",
              "...        ...       ...          ...         ...         ...       ...   \n",
              "224996     0.0   507.122   409.522000  -60.812000    1.212000   319.736   \n",
              "224997     0.0   266.811  2674.036063  168.386784  200.648586   140.718   \n",
              "225001     0.0  1526.300  1704.000000  123.000000   84.800000  1341.800   \n",
              "225002     0.0  1602.500  1462.400000   89.700000   82.400000  1407.900   \n",
              "225003     0.0     8.718     2.018000    0.879000    7.549000     8.494   \n",
              "\n",
              "           che       emp     invt          re         xrd     dltt         dv  \\\n",
              "0       13.809  2.500000  320.590  204.065000  106.459562  179.987   9.157000   \n",
              "1       34.522  2.200000  286.588  139.603000  106.459562  217.699   4.430000   \n",
              "2       29.154  2.100000  259.954  124.106000  106.459562  164.658   0.797000   \n",
              "3       41.010  2.300000  247.245  131.884000  106.459562  248.666   0.000000   \n",
              "4       50.338  2.600000  255.477  142.450000  106.459562  227.159   0.000000   \n",
              "...        ...       ...      ...         ...         ...      ...        ...   \n",
              "224996  46.522  0.808000    9.078 -153.433000  106.459562   20.790   1.674000   \n",
              "224997  14.501  8.285289    0.536   -1.785000  106.459562   76.534  81.662572   \n",
              "225001  14.000  8.285289  263.700  852.295869  106.459562    0.000   0.000000   \n",
              "225002   6.800  5.490000  246.800  852.295869  106.459562    0.400   0.000000   \n",
              "225003   0.837  8.285289    0.046    0.879000  106.459562    0.000  81.662572   \n",
              "\n",
              "           sic  \n",
              "0       5080.0  \n",
              "1       5080.0  \n",
              "2       5080.0  \n",
              "3       5080.0  \n",
              "4       5080.0  \n",
              "...        ...  \n",
              "224996  4412.0  \n",
              "224997  4412.0  \n",
              "225001  3440.0  \n",
              "225002  3440.0  \n",
              "225003  4412.0  \n",
              "\n",
              "[190345 rows x 14 columns]"
            ],
            "text/html": [
              "\n",
              "  <div id=\"df-9fefa096-7e4c-4c25-b065-14ed5f789cb5\">\n",
              "    <div class=\"colab-df-container\">\n",
              "      <div>\n",
              "<style scoped>\n",
              "    .dataframe tbody tr th:only-of-type {\n",
              "        vertical-align: middle;\n",
              "    }\n",
              "\n",
              "    .dataframe tbody tr th {\n",
              "        vertical-align: top;\n",
              "    }\n",
              "\n",
              "    .dataframe thead th {\n",
              "        text-align: right;\n",
              "    }\n",
              "</style>\n",
              "<table border=\"1\" class=\"dataframe\">\n",
              "  <thead>\n",
              "    <tr style=\"text-align: right;\">\n",
              "      <th></th>\n",
              "      <th>target</th>\n",
              "      <th>at</th>\n",
              "      <th>revt</th>\n",
              "      <th>ib</th>\n",
              "      <th>capx</th>\n",
              "      <th>ceq</th>\n",
              "      <th>che</th>\n",
              "      <th>emp</th>\n",
              "      <th>invt</th>\n",
              "      <th>re</th>\n",
              "      <th>xrd</th>\n",
              "      <th>dltt</th>\n",
              "      <th>dv</th>\n",
              "      <th>sic</th>\n",
              "    </tr>\n",
              "  </thead>\n",
              "  <tbody>\n",
              "    <tr>\n",
              "      <th>0</th>\n",
              "      <td>0.0</td>\n",
              "      <td>701.854</td>\n",
              "      <td>874.255000</td>\n",
              "      <td>18.531000</td>\n",
              "      <td>13.134000</td>\n",
              "      <td>340.212</td>\n",
              "      <td>13.809</td>\n",
              "      <td>2.500000</td>\n",
              "      <td>320.590</td>\n",
              "      <td>204.065000</td>\n",
              "      <td>106.459562</td>\n",
              "      <td>179.987</td>\n",
              "      <td>9.157000</td>\n",
              "      <td>5080.0</td>\n",
              "    </tr>\n",
              "    <tr>\n",
              "      <th>1</th>\n",
              "      <td>0.0</td>\n",
              "      <td>710.199</td>\n",
              "      <td>638.721000</td>\n",
              "      <td>-58.939000</td>\n",
              "      <td>12.112000</td>\n",
              "      <td>310.235</td>\n",
              "      <td>34.522</td>\n",
              "      <td>2.200000</td>\n",
              "      <td>286.588</td>\n",
              "      <td>139.603000</td>\n",
              "      <td>106.459562</td>\n",
              "      <td>217.699</td>\n",
              "      <td>4.430000</td>\n",
              "      <td>5080.0</td>\n",
              "    </tr>\n",
              "    <tr>\n",
              "      <th>2</th>\n",
              "      <td>0.0</td>\n",
              "      <td>686.621</td>\n",
              "      <td>606.337000</td>\n",
              "      <td>-12.410000</td>\n",
              "      <td>9.930000</td>\n",
              "      <td>294.988</td>\n",
              "      <td>29.154</td>\n",
              "      <td>2.100000</td>\n",
              "      <td>259.954</td>\n",
              "      <td>124.106000</td>\n",
              "      <td>106.459562</td>\n",
              "      <td>164.658</td>\n",
              "      <td>0.797000</td>\n",
              "      <td>5080.0</td>\n",
              "    </tr>\n",
              "    <tr>\n",
              "      <th>3</th>\n",
              "      <td>0.0</td>\n",
              "      <td>709.292</td>\n",
              "      <td>651.958000</td>\n",
              "      <td>3.504000</td>\n",
              "      <td>10.286000</td>\n",
              "      <td>301.684</td>\n",
              "      <td>41.010</td>\n",
              "      <td>2.300000</td>\n",
              "      <td>247.245</td>\n",
              "      <td>131.884000</td>\n",
              "      <td>106.459562</td>\n",
              "      <td>248.666</td>\n",
              "      <td>0.000000</td>\n",
              "      <td>5080.0</td>\n",
              "    </tr>\n",
              "    <tr>\n",
              "      <th>4</th>\n",
              "      <td>0.0</td>\n",
              "      <td>732.230</td>\n",
              "      <td>747.848000</td>\n",
              "      <td>18.572000</td>\n",
              "      <td>13.033000</td>\n",
              "      <td>314.744</td>\n",
              "      <td>50.338</td>\n",
              "      <td>2.600000</td>\n",
              "      <td>255.477</td>\n",
              "      <td>142.450000</td>\n",
              "      <td>106.459562</td>\n",
              "      <td>227.159</td>\n",
              "      <td>0.000000</td>\n",
              "      <td>5080.0</td>\n",
              "    </tr>\n",
              "    <tr>\n",
              "      <th>...</th>\n",
              "      <td>...</td>\n",
              "      <td>...</td>\n",
              "      <td>...</td>\n",
              "      <td>...</td>\n",
              "      <td>...</td>\n",
              "      <td>...</td>\n",
              "      <td>...</td>\n",
              "      <td>...</td>\n",
              "      <td>...</td>\n",
              "      <td>...</td>\n",
              "      <td>...</td>\n",
              "      <td>...</td>\n",
              "      <td>...</td>\n",
              "      <td>...</td>\n",
              "    </tr>\n",
              "    <tr>\n",
              "      <th>224996</th>\n",
              "      <td>0.0</td>\n",
              "      <td>507.122</td>\n",
              "      <td>409.522000</td>\n",
              "      <td>-60.812000</td>\n",
              "      <td>1.212000</td>\n",
              "      <td>319.736</td>\n",
              "      <td>46.522</td>\n",
              "      <td>0.808000</td>\n",
              "      <td>9.078</td>\n",
              "      <td>-153.433000</td>\n",
              "      <td>106.459562</td>\n",
              "      <td>20.790</td>\n",
              "      <td>1.674000</td>\n",
              "      <td>4412.0</td>\n",
              "    </tr>\n",
              "    <tr>\n",
              "      <th>224997</th>\n",
              "      <td>0.0</td>\n",
              "      <td>266.811</td>\n",
              "      <td>2674.036063</td>\n",
              "      <td>168.386784</td>\n",
              "      <td>200.648586</td>\n",
              "      <td>140.718</td>\n",
              "      <td>14.501</td>\n",
              "      <td>8.285289</td>\n",
              "      <td>0.536</td>\n",
              "      <td>-1.785000</td>\n",
              "      <td>106.459562</td>\n",
              "      <td>76.534</td>\n",
              "      <td>81.662572</td>\n",
              "      <td>4412.0</td>\n",
              "    </tr>\n",
              "    <tr>\n",
              "      <th>225001</th>\n",
              "      <td>0.0</td>\n",
              "      <td>1526.300</td>\n",
              "      <td>1704.000000</td>\n",
              "      <td>123.000000</td>\n",
              "      <td>84.800000</td>\n",
              "      <td>1341.800</td>\n",
              "      <td>14.000</td>\n",
              "      <td>8.285289</td>\n",
              "      <td>263.700</td>\n",
              "      <td>852.295869</td>\n",
              "      <td>106.459562</td>\n",
              "      <td>0.000</td>\n",
              "      <td>0.000000</td>\n",
              "      <td>3440.0</td>\n",
              "    </tr>\n",
              "    <tr>\n",
              "      <th>225002</th>\n",
              "      <td>0.0</td>\n",
              "      <td>1602.500</td>\n",
              "      <td>1462.400000</td>\n",
              "      <td>89.700000</td>\n",
              "      <td>82.400000</td>\n",
              "      <td>1407.900</td>\n",
              "      <td>6.800</td>\n",
              "      <td>5.490000</td>\n",
              "      <td>246.800</td>\n",
              "      <td>852.295869</td>\n",
              "      <td>106.459562</td>\n",
              "      <td>0.400</td>\n",
              "      <td>0.000000</td>\n",
              "      <td>3440.0</td>\n",
              "    </tr>\n",
              "    <tr>\n",
              "      <th>225003</th>\n",
              "      <td>0.0</td>\n",
              "      <td>8.718</td>\n",
              "      <td>2.018000</td>\n",
              "      <td>0.879000</td>\n",
              "      <td>7.549000</td>\n",
              "      <td>8.494</td>\n",
              "      <td>0.837</td>\n",
              "      <td>8.285289</td>\n",
              "      <td>0.046</td>\n",
              "      <td>0.879000</td>\n",
              "      <td>106.459562</td>\n",
              "      <td>0.000</td>\n",
              "      <td>81.662572</td>\n",
              "      <td>4412.0</td>\n",
              "    </tr>\n",
              "  </tbody>\n",
              "</table>\n",
              "<p>190345 rows × 14 columns</p>\n",
              "</div>\n",
              "      <button class=\"colab-df-convert\" onclick=\"convertToInteractive('df-9fefa096-7e4c-4c25-b065-14ed5f789cb5')\"\n",
              "              title=\"Convert this dataframe to an interactive table.\"\n",
              "              style=\"display:none;\">\n",
              "        \n",
              "  <svg xmlns=\"http://www.w3.org/2000/svg\" height=\"24px\"viewBox=\"0 0 24 24\"\n",
              "       width=\"24px\">\n",
              "    <path d=\"M0 0h24v24H0V0z\" fill=\"none\"/>\n",
              "    <path d=\"M18.56 5.44l.94 2.06.94-2.06 2.06-.94-2.06-.94-.94-2.06-.94 2.06-2.06.94zm-11 1L8.5 8.5l.94-2.06 2.06-.94-2.06-.94L8.5 2.5l-.94 2.06-2.06.94zm10 10l.94 2.06.94-2.06 2.06-.94-2.06-.94-.94-2.06-.94 2.06-2.06.94z\"/><path d=\"M17.41 7.96l-1.37-1.37c-.4-.4-.92-.59-1.43-.59-.52 0-1.04.2-1.43.59L10.3 9.45l-7.72 7.72c-.78.78-.78 2.05 0 2.83L4 21.41c.39.39.9.59 1.41.59.51 0 1.02-.2 1.41-.59l7.78-7.78 2.81-2.81c.8-.78.8-2.07 0-2.86zM5.41 20L4 18.59l7.72-7.72 1.47 1.35L5.41 20z\"/>\n",
              "  </svg>\n",
              "      </button>\n",
              "      \n",
              "  <style>\n",
              "    .colab-df-container {\n",
              "      display:flex;\n",
              "      flex-wrap:wrap;\n",
              "      gap: 12px;\n",
              "    }\n",
              "\n",
              "    .colab-df-convert {\n",
              "      background-color: #E8F0FE;\n",
              "      border: none;\n",
              "      border-radius: 50%;\n",
              "      cursor: pointer;\n",
              "      display: none;\n",
              "      fill: #1967D2;\n",
              "      height: 32px;\n",
              "      padding: 0 0 0 0;\n",
              "      width: 32px;\n",
              "    }\n",
              "\n",
              "    .colab-df-convert:hover {\n",
              "      background-color: #E2EBFA;\n",
              "      box-shadow: 0px 1px 2px rgba(60, 64, 67, 0.3), 0px 1px 3px 1px rgba(60, 64, 67, 0.15);\n",
              "      fill: #174EA6;\n",
              "    }\n",
              "\n",
              "    [theme=dark] .colab-df-convert {\n",
              "      background-color: #3B4455;\n",
              "      fill: #D2E3FC;\n",
              "    }\n",
              "\n",
              "    [theme=dark] .colab-df-convert:hover {\n",
              "      background-color: #434B5C;\n",
              "      box-shadow: 0px 1px 3px 1px rgba(0, 0, 0, 0.15);\n",
              "      filter: drop-shadow(0px 1px 2px rgba(0, 0, 0, 0.3));\n",
              "      fill: #FFFFFF;\n",
              "    }\n",
              "  </style>\n",
              "\n",
              "      <script>\n",
              "        const buttonEl =\n",
              "          document.querySelector('#df-9fefa096-7e4c-4c25-b065-14ed5f789cb5 button.colab-df-convert');\n",
              "        buttonEl.style.display =\n",
              "          google.colab.kernel.accessAllowed ? 'block' : 'none';\n",
              "\n",
              "        async function convertToInteractive(key) {\n",
              "          const element = document.querySelector('#df-9fefa096-7e4c-4c25-b065-14ed5f789cb5');\n",
              "          const dataTable =\n",
              "            await google.colab.kernel.invokeFunction('convertToInteractive',\n",
              "                                                     [key], {});\n",
              "          if (!dataTable) return;\n",
              "\n",
              "          const docLinkHtml = 'Like what you see? Visit the ' +\n",
              "            '<a target=\"_blank\" href=https://colab.research.google.com/notebooks/data_table.ipynb>data table notebook</a>'\n",
              "            + ' to learn more about interactive tables.';\n",
              "          element.innerHTML = '';\n",
              "          dataTable['output_type'] = 'display_data';\n",
              "          await google.colab.output.renderOutput(dataTable, element);\n",
              "          const docLink = document.createElement('div');\n",
              "          docLink.innerHTML = docLinkHtml;\n",
              "          element.appendChild(docLink);\n",
              "        }\n",
              "      </script>\n",
              "    </div>\n",
              "  </div>\n",
              "  "
            ]
          },
          "metadata": {},
          "execution_count": 6
        }
      ],
      "source": [
        "# Selecting only the required rows\n",
        "finance=finance.iloc[:,2:]\n",
        "finance"
      ]
    },
    {
      "cell_type": "code",
      "execution_count": 7,
      "id": "81e019cb",
      "metadata": {
        "id": "81e019cb"
      },
      "outputs": [],
      "source": [
        "# Selecting the dependent and independent variables from the dataset\n",
        "X=finance.iloc[:,2:]\n",
        "y=finance['target']"
      ]
    },
    {
      "cell_type": "code",
      "execution_count": 8,
      "id": "373416ef",
      "metadata": {
        "colab": {
          "base_uri": "https://localhost:8080/"
        },
        "id": "373416ef",
        "outputId": "fb80a00b-d8d7-47a0-ef95-5065d3c74ae0"
      },
      "outputs": [
        {
          "output_type": "stream",
          "name": "stdout",
          "text": [
            "Optimization terminated successfully.\n",
            "         Current function value: 0.081397\n",
            "         Iterations 10\n",
            "                         Results: Logit\n",
            "=================================================================\n",
            "Model:              Logit            Pseudo R-squared: -0.519    \n",
            "Dependent Variable: target           AIC:              31010.9112\n",
            "Date:               2022-05-15 21:14 BIC:              31132.7903\n",
            "No. Observations:   190345           Log-Likelihood:   -15493.   \n",
            "Df Model:           11               LL-Null:          -10200.   \n",
            "Df Residuals:       190333           LLR p-value:      1.0000    \n",
            "Converged:          1.0000           Scale:            1.0000    \n",
            "No. Iterations:     10.0000                                      \n",
            "-------------------------------------------------------------------\n",
            "         Coef.    Std.Err.       z       P>|z|     [0.025    0.975]\n",
            "-------------------------------------------------------------------\n",
            "revt     0.0000     0.0000     11.5317   0.0000    0.0000    0.0000\n",
            "ib       0.0000     0.0000      1.2164   0.2238   -0.0000    0.0001\n",
            "capx    -0.0004     0.0000     -8.4006   0.0000   -0.0005   -0.0003\n",
            "ceq      0.0000     0.0000      4.9513   0.0000    0.0000    0.0000\n",
            "che      0.0000     0.0000      0.6973   0.4856   -0.0000    0.0000\n",
            "emp     -0.0285     0.0026    -11.0143   0.0000   -0.0336   -0.0234\n",
            "invt     0.0000     0.0000      1.7270   0.0842   -0.0000    0.0000\n",
            "re       0.0000     0.0000      2.1834   0.0290    0.0000    0.0000\n",
            "xrd     -0.0158     0.0003    -55.8666   0.0000   -0.0164   -0.0152\n",
            "dltt    -0.0000     0.0000     -3.0849   0.0020   -0.0000   -0.0000\n",
            "dv       0.0001     0.0001      1.0449   0.2961   -0.0001    0.0002\n",
            "sic     -0.0008     0.0000   -122.7292   0.0000   -0.0008   -0.0008\n",
            "=================================================================\n",
            "\n"
          ]
        }
      ],
      "source": [
        "# Implementing the model and checking the p-values\n",
        "logit_model=sm.Logit(y,X)\n",
        "result=logit_model.fit()\n",
        "print(result.summary2())"
      ]
    },
    {
      "cell_type": "code",
      "execution_count": 9,
      "id": "a5abb8c6",
      "metadata": {
        "id": "a5abb8c6"
      },
      "outputs": [],
      "source": [
        "# The p-values for most of the variables are smaller than 0.05, except five variables, therefore, we will remove them.\n",
        "X=X.drop(['invt','ib','che','dltt','dv'],axis=1)\n",
        "y=finance['target']"
      ]
    },
    {
      "cell_type": "code",
      "execution_count": 10,
      "id": "0b10231d",
      "metadata": {
        "colab": {
          "base_uri": "https://localhost:8080/"
        },
        "id": "0b10231d",
        "outputId": "f5ebde2c-8158-48ed-c39b-069208b4b920"
      },
      "outputs": [
        {
          "output_type": "stream",
          "name": "stdout",
          "text": [
            "Optimization terminated successfully.\n",
            "         Current function value: 0.081444\n",
            "         Iterations 10\n",
            "                         Results: Logit\n",
            "=================================================================\n",
            "Model:              Logit            Pseudo R-squared: -0.520    \n",
            "Dependent Variable: target           AIC:              31018.9851\n",
            "Date:               2022-05-15 21:14 BIC:              31090.0812\n",
            "No. Observations:   190345           Log-Likelihood:   -15502.   \n",
            "Df Model:           6                LL-Null:          -10200.   \n",
            "Df Residuals:       190338           LLR p-value:      1.0000    \n",
            "Converged:          1.0000           Scale:            1.0000    \n",
            "No. Iterations:     10.0000                                      \n",
            "-------------------------------------------------------------------\n",
            "         Coef.    Std.Err.       z       P>|z|     [0.025    0.975]\n",
            "-------------------------------------------------------------------\n",
            "revt     0.0000     0.0000     11.2390   0.0000    0.0000    0.0000\n",
            "capx    -0.0003     0.0000     -8.1452   0.0000   -0.0004   -0.0002\n",
            "ceq      0.0000     0.0000      3.6478   0.0003    0.0000    0.0000\n",
            "emp     -0.0247     0.0023    -10.8240   0.0000   -0.0292   -0.0202\n",
            "re       0.0000     0.0000      2.8406   0.0045    0.0000    0.0000\n",
            "xrd     -0.0159     0.0003    -56.6533   0.0000   -0.0165   -0.0154\n",
            "sic     -0.0008     0.0000   -123.4024   0.0000   -0.0008   -0.0008\n",
            "=================================================================\n",
            "\n"
          ]
        }
      ],
      "source": [
        "logit_model=sm.Logit(y,X)\n",
        "result=logit_model.fit()\n",
        "print(result.summary2())"
      ]
    },
    {
      "cell_type": "code",
      "execution_count": 11,
      "id": "5804ae08",
      "metadata": {
        "colab": {
          "base_uri": "https://localhost:8080/"
        },
        "id": "5804ae08",
        "outputId": "422533de-d5c3-4784-815a-c67c0951d8ad"
      },
      "outputs": [
        {
          "output_type": "stream",
          "name": "stderr",
          "text": [
            "/usr/local/lib/python3.7/dist-packages/sklearn/linear_model/_logistic.py:818: ConvergenceWarning: lbfgs failed to converge (status=1):\n",
            "STOP: TOTAL NO. of ITERATIONS REACHED LIMIT.\n",
            "\n",
            "Increase the number of iterations (max_iter) or scale the data as shown in:\n",
            "    https://scikit-learn.org/stable/modules/preprocessing.html\n",
            "Please also refer to the documentation for alternative solver options:\n",
            "    https://scikit-learn.org/stable/modules/linear_model.html#logistic-regression\n",
            "  extra_warning_msg=_LOGISTIC_SOLVER_CONVERGENCE_MSG,\n"
          ]
        },
        {
          "output_type": "execute_result",
          "data": {
            "text/plain": [
              "LogisticRegression()"
            ]
          },
          "metadata": {},
          "execution_count": 11
        }
      ],
      "source": [
        "# Splitting the dataset into training and testing dataframes. We assigned 30% of dataset for testing and 70% for training\n",
        "X_train, X_test, y_train, y_test = train_test_split(X, y, test_size=0.3, random_state=0)\n",
        "logreg = LogisticRegression()\n",
        "logreg.fit(X_train, y_train)"
      ]
    },
    {
      "cell_type": "code",
      "execution_count": 12,
      "id": "50a4f3f7",
      "metadata": {
        "colab": {
          "base_uri": "https://localhost:8080/"
        },
        "id": "50a4f3f7",
        "outputId": "f5111ade-935b-4b65-cb9c-a0d33b7cdabe"
      },
      "outputs": [
        {
          "output_type": "stream",
          "name": "stdout",
          "text": [
            "Accuracy of logistic regression classifier on test set: 0.99\n"
          ]
        }
      ],
      "source": [
        "# Finding the accuracy of the model\n",
        "y_pred = logreg.predict(X_test)\n",
        "print('Accuracy of logistic regression classifier on test set: {:.2f}'.format(logreg.score(X_test, y_test)))"
      ]
    },
    {
      "cell_type": "code",
      "execution_count": 13,
      "id": "b2bb4c38",
      "metadata": {
        "colab": {
          "base_uri": "https://localhost:8080/"
        },
        "id": "b2bb4c38",
        "outputId": "457018b9-44fe-4a49-d06c-3673c066fab8"
      },
      "outputs": [
        {
          "output_type": "stream",
          "name": "stdout",
          "text": [
            "Confusion Matrix:\n",
            " [[56573    11]\n",
            " [  519     1]]\n"
          ]
        }
      ],
      "source": [
        "# Confusion matrix\n",
        "confusion_matrix = confusion_matrix(y_test, y_pred)\n",
        "print(\"Confusion Matrix:\\n\",confusion_matrix)"
      ]
    },
    {
      "cell_type": "code",
      "source": [
        "# Predict class labels on training data\n",
        "pred_labels_tr = (logreg.predict(X_train) > 0.5).astype(int)\n",
        "# Predict class labels on a test data\n",
        "pred_labels_te = (logreg.predict(X_test) > 0.5).astype(int)"
      ],
      "metadata": {
        "id": "D8lWWSHkVF4j"
      },
      "id": "D8lWWSHkVF4j",
      "execution_count": 14,
      "outputs": []
    },
    {
      "cell_type": "code",
      "source": [
        "# Model Performance Summary\n",
        "print(\"\")\n",
        "print('---------- Evaluation on Training Data ----------')\n",
        "print(classification_report(y_train, pred_labels_tr))\n",
        "print(\"\")\n",
        "\n",
        "print('---------- Evaluation on Test Data ----------')\n",
        "print(classification_report(y_test, pred_labels_te))\n",
        "print(\"\")\n"
      ],
      "metadata": {
        "colab": {
          "base_uri": "https://localhost:8080/"
        },
        "id": "-eZ4EwYwNRKx",
        "outputId": "cfd5f5ca-4fa2-48f8-ae4e-b9a0420e3127"
      },
      "id": "-eZ4EwYwNRKx",
      "execution_count": 15,
      "outputs": [
        {
          "output_type": "stream",
          "name": "stdout",
          "text": [
            "\n",
            "---------- Evaluation on Training Data ----------\n",
            "              precision    recall  f1-score   support\n",
            "\n",
            "         0.0       0.99      1.00      1.00    131957\n",
            "         1.0       0.00      0.00      0.00      1284\n",
            "\n",
            "    accuracy                           0.99    133241\n",
            "   macro avg       0.50      0.50      0.50    133241\n",
            "weighted avg       0.98      0.99      0.99    133241\n",
            "\n",
            "\n",
            "---------- Evaluation on Test Data ----------\n",
            "              precision    recall  f1-score   support\n",
            "\n",
            "         0.0       0.99      1.00      1.00     56584\n",
            "         1.0       0.08      0.00      0.00       520\n",
            "\n",
            "    accuracy                           0.99     57104\n",
            "   macro avg       0.54      0.50      0.50     57104\n",
            "weighted avg       0.98      0.99      0.99     57104\n",
            "\n",
            "\n"
          ]
        }
      ]
    },
    {
      "cell_type": "code",
      "source": [
        "#define metrics\n",
        "y_pred_proba = logreg.predict_proba(X_test)[::,1]\n",
        "fpr, tpr, _ = metrics.roc_curve(y_test,  y_pred_proba)\n",
        "auc = metrics.roc_auc_score(y_test, y_pred_proba)\n",
        "\n",
        "#create ROC curve\n",
        "plt.plot(fpr,tpr,label=\"AUC=\"+str(auc))\n",
        "plt.ylabel('True Positive Rate')\n",
        "plt.xlabel('False Positive Rate')\n",
        "plt.legend(loc=4)\n",
        "plt.show()"
      ],
      "metadata": {
        "colab": {
          "base_uri": "https://localhost:8080/",
          "height": 285
        },
        "id": "k_NVAE2tf42A",
        "outputId": "f6df0e64-c9aa-4cc8-f4b5-6d9020d71adc"
      },
      "id": "k_NVAE2tf42A",
      "execution_count": 16,
      "outputs": [
        {
          "output_type": "display_data",
          "data": {
            "text/plain": [
              "<Figure size 432x288 with 1 Axes>"
            ],
            "image/png": "[encoded data removed]"
          },
          "metadata": {
            "needs_background": "light"
          }
        }
      ]
    },
    {
      "cell_type": "code",
      "source": [
        "# We observe the ROC curve to be almost along the baseline. This might be because of the bias in the target variable."
      ],
      "metadata": {
        "id": "gctlLc5agRNf"
      },
      "id": "gctlLc5agRNf",
      "execution_count": 17,
      "outputs": []
    }
  ],
  "metadata": {
    "kernelspec": {
      "display_name": "Python 3 (ipykernel)",
      "language": "python",
      "name": "python3"
    },
    "language_info": {
      "codemirror_mode": {
        "name": "ipython",
        "version": 3
      },
      "file_extension": ".py",
      "mimetype": "text/x-python",
      "name": "python",
      "nbconvert_exporter": "python",
      "pygments_lexer": "ipython3",
      "version": "3.9.7"
    },
    "colab": {
      "name": "LogisticRegression.ipynb",
      "provenance": []
    }
  },
  "nbformat": 4,
  "nbformat_minor": 5
}